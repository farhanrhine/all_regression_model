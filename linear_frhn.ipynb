{
 "cells": [
  {
   "cell_type": "markdown",
   "id": "92e0a619",
   "metadata": {},
   "source": [
    "# my goal in this\n",
    "1. get data\n",
    "2. build linear model\n",
    "3. used l1 norm\n",
    "4. used l2 norm\n",
    "5. used elastic net\n"
   ]
  },
  {
   "cell_type": "code",
   "execution_count": 1,
   "id": "3de4304e",
   "metadata": {},
   "outputs": [],
   "source": [
    "import numpy as np\n",
    "import pandas as pd\n",
    "from matplotlib import pyplot as plt\n",
    "import seaborn as sns\n",
    "from sklearn.model_selection import train_test_split"
   ]
  },
  {
   "cell_type": "code",
   "execution_count": null,
   "id": "738600de",
   "metadata": {},
   "outputs": [],
   "source": [
    "df = pd_"
   ]
  }
 ],
 "metadata": {
  "kernelspec": {
   "display_name": "Python 3",
   "language": "python",
   "name": "python3"
  },
  "language_info": {
   "codemirror_mode": {
    "name": "ipython",
    "version": 3
   },
   "file_extension": ".py",
   "mimetype": "text/x-python",
   "name": "python",
   "nbconvert_exporter": "python",
   "pygments_lexer": "ipython3",
   "version": "3.9.10"
  }
 },
 "nbformat": 4,
 "nbformat_minor": 5
}
